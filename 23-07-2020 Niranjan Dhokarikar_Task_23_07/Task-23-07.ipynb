{
 "cells": [
  {
   "cell_type": "code",
   "execution_count": 1,
   "metadata": {},
   "outputs": [],
   "source": [
    "import cv2"
   ]
  },
  {
   "cell_type": "code",
   "execution_count": null,
   "metadata": {},
   "outputs": [
    {
     "name": "stdout",
     "output_type": "stream",
     "text": [
      "Original Image Shape:  (300, 230, 3)\n",
      "Original Image Size:  207000\n",
      "Resize Image Shape:  (500, 500, 3)\n",
      "Resize Image Size:  750000\n"
     ]
    }
   ],
   "source": [
    "# reading the original image from the folder \n",
    "\n",
    "img = cv2.imread(\"D:/noddyimage/text.jpg\",cv2.IMREAD_UNCHANGED)\n",
    "cv2.imshow(\"Original\",img)\n",
    "\n",
    "# Converting the image into greyscale and hsv using cvt color function\n",
    "\n",
    "gray = cv2.cvtColor(img,cv2.COLOR_RGB2GRAY)\n",
    "hsv = cv2.cvtColor(img,cv2.COLOR_RGB2HSV)\n",
    "\n",
    "# displaying the grayscale and hsv images\n",
    "\n",
    "cv2.imshow(\"grayscale\",gray)\n",
    "cv2.imshow(\"HSV image\",hsv)\n",
    "\n",
    "# resizing and displaying the image\n",
    "\n",
    "img2 = cv2.resize(img,(500,500))\n",
    "cv2.imshow(\"After Resizing\",img2)\n",
    "\n",
    "# saving the images in the folder\n",
    "\n",
    "cv2.imwrite(\"D:/noddyimage/grayscale.jpg\",gray)\n",
    "cv2.imwrite(\"D:/noddyimage/hsv.jpg\",hsv)\n",
    "cv2.imwrite(\"D:/noddyimage/resize.jpg\",img2)\n",
    "\n",
    "# Printing the size and shape of old and new image\n",
    "print(\"Original Image Shape: \",img.shape)\n",
    "print(\"Original Image Size: \",img.size)\n",
    "print(\"Resize Image Shape: \",img2.shape)\n",
    "print(\"Resize Image Size: \",img2.size)\n",
    "\n",
    "# Apply Thresholding Image\n",
    "ret,thresh = cv2.threshold(gray,150,255,cv2.THRESH_BINARY)\n",
    "ret,thresh1 = cv2.threshold(gray,150,255,cv2.THRESH_BINARY_INV)\n",
    "\n",
    "# Printing the Thresholding Images\n",
    "cv2.imshow(\"Binary Thresholding\",thresh)\n",
    "cv2.imshow(\"Binary INV Threshholding\",thresh1)\n",
    "\n",
    "# saving the images in the folder\n",
    "\n",
    "cv2.imwrite(\"D:/noddyimage/binary.jpg\",thresh)\n",
    "cv2.imwrite(\"D:/noddyimage/binary_inv.jpg\",thresh1)\n",
    "\n",
    "# Adaptive Thresholding\n",
    "adaptive_thresh = cv2.adaptiveThreshold(gray,255,cv2.ADAPTIVE_THRESH_MEAN_C,cv2.THRESH_BINARY,5,10)\n",
    "adaptive_thresh1 = cv2.adaptiveThreshold(gray,255,cv2.ADAPTIVE_THRESH_GAUSSIAN_C,cv2.THRESH_BINARY,5,10)\n",
    "\n",
    "# printing the adaptive threshold image\n",
    "cv2.imshow(\"Adaptive\", adaptive_thresh)\n",
    "cv2.imshow(\"Adaptive Gaussian\", adaptive_thresh1)\n",
    "\n",
    "# Saving the Adaptive Thresholding images into folder\n",
    "\n",
    "cv2.imwrite(\"D:/noddyimage/adaptive.jpg\",thresh)\n",
    "cv2.imwrite(\"D:/noddyimage/adaptive_gaussian.jpg\",thresh1)\n",
    "\n",
    "\n",
    "cv2.waitKey(0)\n",
    "cv2.destroyAllWindows()"
   ]
  },
  {
   "cell_type": "code",
   "execution_count": null,
   "metadata": {},
   "outputs": [],
   "source": []
  }
 ],
 "metadata": {
  "kernelspec": {
   "display_name": "Python 3",
   "language": "python",
   "name": "python3"
  },
  "language_info": {
   "codemirror_mode": {
    "name": "ipython",
    "version": 3
   },
   "file_extension": ".py",
   "mimetype": "text/x-python",
   "name": "python",
   "nbconvert_exporter": "python",
   "pygments_lexer": "ipython3",
   "version": "3.7.6"
  }
 },
 "nbformat": 4,
 "nbformat_minor": 4
}
